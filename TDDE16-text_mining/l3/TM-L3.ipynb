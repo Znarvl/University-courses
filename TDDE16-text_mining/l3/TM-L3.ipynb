{
 "cells": [
  {
   "cell_type": "markdown",
   "metadata": {},
   "source": [
    "# L3: Text clustering and topic modelling"
   ]
  },
  {
   "cell_type": "markdown",
   "metadata": {},
   "source": [
    "Text clustering groups documents in such a way that documents within a group are more &lsquo;similar&rsquo; to other documents in the cluster than to documents not in the cluster. The exact definition of what &lsquo;similar&rsquo; means in this context varies across applications and clustering algorithms.\n",
    "\n",
    "In this lab you will experiment with both hard and soft clustering techniques. More specifically, in the first part you will be using the $k$-means algorithm, and in the second part you will be using a topic model based on the Latent Dirichlet Allocation (LDA)."
   ]
  },
  {
   "cell_type": "markdown",
   "metadata": {},
   "source": [
    "**A quick reminder about our [Rules for hand-in assignments](https://www.ida.liu.se/~TDDE16/exam.en.shtml#handins) and the [Policy on cheating and plagiarism](https://www.ida.liu.se/~TDDE16/exam.en.shtml#cheating)**"
   ]
  },
  {
   "cell_type": "markdown",
   "metadata": {},
   "source": [
    "## Hard clustering data set"
   ]
  },
  {
   "cell_type": "markdown",
   "metadata": {},
   "source": [
    "The raw data for the hard clustering part of this lab is a collection of product reviews. We have preprocessed the data by tokenization and lowercasing."
   ]
  },
  {
   "cell_type": "code",
   "execution_count": 1,
   "metadata": {},
   "outputs": [],
   "source": [
    "import pandas as pd\n",
    "import bz2\n",
    "\n",
    "\n",
    "with bz2.open('reviews.json.bz2') as source:\n",
    "    df = pd.read_json(source)"
   ]
  },
  {
   "cell_type": "markdown",
   "metadata": {},
   "source": [
    "When you inspect the data frame, you can see that there are three labelled columns: `category` (the product category), `sentiment` (whether the product review was classified as &lsquo;positive&rsquo; or &lsquo;negative&rsquo; towards the product), and `text` (the space-separated text of the review)."
   ]
  },
  {
   "cell_type": "code",
   "execution_count": 2,
   "metadata": {},
   "outputs": [
    {
     "data": {
      "text/html": [
       "<div>\n",
       "<style scoped>\n",
       "    .dataframe tbody tr th:only-of-type {\n",
       "        vertical-align: middle;\n",
       "    }\n",
       "\n",
       "    .dataframe tbody tr th {\n",
       "        vertical-align: top;\n",
       "    }\n",
       "\n",
       "    .dataframe thead th {\n",
       "        text-align: right;\n",
       "    }\n",
       "</style>\n",
       "<table border=\"1\" class=\"dataframe\">\n",
       "  <thead>\n",
       "    <tr style=\"text-align: right;\">\n",
       "      <th></th>\n",
       "      <th>category</th>\n",
       "      <th>sentiment</th>\n",
       "      <th>text</th>\n",
       "    </tr>\n",
       "  </thead>\n",
       "  <tbody>\n",
       "    <tr>\n",
       "      <th>0</th>\n",
       "      <td>music</td>\n",
       "      <td>neg</td>\n",
       "      <td>i bought this album because i loved the title ...</td>\n",
       "    </tr>\n",
       "    <tr>\n",
       "      <th>1</th>\n",
       "      <td>music</td>\n",
       "      <td>neg</td>\n",
       "      <td>i was misled and thought i was buying the enti...</td>\n",
       "    </tr>\n",
       "    <tr>\n",
       "      <th>2</th>\n",
       "      <td>books</td>\n",
       "      <td>neg</td>\n",
       "      <td>i have introduced many of my ell , high school...</td>\n",
       "    </tr>\n",
       "    <tr>\n",
       "      <th>3</th>\n",
       "      <td>books</td>\n",
       "      <td>pos</td>\n",
       "      <td>anything you purchase in the left behind serie...</td>\n",
       "    </tr>\n",
       "    <tr>\n",
       "      <th>4</th>\n",
       "      <td>dvd</td>\n",
       "      <td>pos</td>\n",
       "      <td>i loved these movies , and i cant wiat for the...</td>\n",
       "    </tr>\n",
       "  </tbody>\n",
       "</table>\n",
       "</div>"
      ],
      "text/plain": [
       "  category sentiment                                               text\n",
       "0    music       neg  i bought this album because i loved the title ...\n",
       "1    music       neg  i was misled and thought i was buying the enti...\n",
       "2    books       neg  i have introduced many of my ell , high school...\n",
       "3    books       pos  anything you purchase in the left behind serie...\n",
       "4      dvd       pos  i loved these movies , and i cant wiat for the..."
      ]
     },
     "execution_count": 2,
     "metadata": {},
     "output_type": "execute_result"
    }
   ],
   "source": [
    "df.head()"
   ]
  },
  {
   "cell_type": "markdown",
   "metadata": {},
   "source": [
    "## Problem 1: K-means clustering"
   ]
  },
  {
   "cell_type": "markdown",
   "metadata": {},
   "source": [
    "Your first task is to cluster the product review data using a tf–idf vectorizer and a $k$-means clusterer."
   ]
  },
  {
   "cell_type": "markdown",
   "metadata": {},
   "source": [
    "Start by doing the vectorization. In connection with vectorization, you should also filter out standard English stop words. While you could use [spaCy](https://spacy.io/) for this task, here it suffices to use the word list implemented in [TfidfVectorizer](https://scikit-learn.org/stable/modules/generated/sklearn.feature_extraction.text.TfidfVectorizer.html)."
   ]
  },
  {
   "cell_type": "code",
   "execution_count": 38,
   "metadata": {},
   "outputs": [],
   "source": [
    "# TODO: Enter code here to vectorize the data and store it in a variable `reviews`\n",
    "from sklearn.feature_extraction.text import TfidfVectorizer\n",
    "\n",
    "vectorizer = TfidfVectorizer(stop_words = 'english')\n",
    "reviews = vectorizer.fit_transform(df['text'])"
   ]
  },
  {
   "cell_type": "markdown",
   "metadata": {},
   "source": [
    "Test your vectorization by running the following code cell:"
   ]
  },
  {
   "cell_type": "code",
   "execution_count": 4,
   "metadata": {},
   "outputs": [
    {
     "data": {
      "text/plain": [
       "(11914, 46619)"
      ]
     },
     "execution_count": 4,
     "metadata": {},
     "output_type": "execute_result"
    }
   ],
   "source": [
    "reviews.shape"
   ]
  },
  {
   "cell_type": "markdown",
   "metadata": {},
   "source": [
    "If you used the English stop word list from scikit-learn, then the resulting vocabulary should have 46,619 entries."
   ]
  },
  {
   "cell_type": "markdown",
   "metadata": {},
   "source": [
    "Next, cluster the vectorized data. Before doing so, you should read the documentation of the [KMeans](https://scikit-learn.org/stable/modules/generated/sklearn.cluster.KMeans.html) class, which is scikit-learn&rsquo;s implementation of the $k$-means algorithm. As you can see, this class has several parameters that you can tweak. For now, the only parameter that you will have to set is the number of clusters. Start with $k=3$.\n",
    "\n",
    "**Tip:** Training $k$-means models will take some time. To speed things up, you can use the `n_init` parameter to control the number of times that the clustering is re-computed with different initial values. The default value for this parameter is 10; here and in the rest of this lab, you may want to set this to a lower value."
   ]
  },
  {
   "cell_type": "code",
   "execution_count": 39,
   "metadata": {},
   "outputs": [],
   "source": [
    "# TODO: Enter code here to cluster the vectorized data\n",
    "from sklearn.cluster import KMeans\n",
    "kmeans = KMeans(n_clusters= 3, n_init = 10).fit(reviews)\n",
    "kmeans_predict = kmeans.predict(reviews)\n"
   ]
  },
  {
   "cell_type": "markdown",
   "metadata": {},
   "source": [
    "To sanity-check your clustering, create a bar plot with the number of documents per cluster."
   ]
  },
  {
   "cell_type": "code",
   "execution_count": 40,
   "metadata": {},
   "outputs": [
    {
     "name": "stdout",
     "output_type": "stream",
     "text": [
      "Number of elements in each cluster: [9272 1526 1116]\n"
     ]
    },
    {
     "data": {
      "image/png": "[encoded data removed]",
      "text/plain": [
       "<Figure size 640x480 with 1 Axes>"
      ]
     },
     "metadata": {},
     "output_type": "display_data"
    }
   ],
   "source": [
    "# TODO: Enter code here to produce a bar plot of the cluster size\n",
    "import numpy as np \n",
    "import matplotlib.pyplot as plt \n",
    "cluster_1 = 0\n",
    "cluster_2 = 0\n",
    "cluster_3 = 0\n",
    "for i in kmeans_predict:\n",
    "    if i == 0:\n",
    "        cluster_1 +=1\n",
    "    if i == 1:\n",
    "        cluster_2 +=1\n",
    "    if i == 2:\n",
    "        cluster_3 +=1\n",
    "\n",
    "clusters = [\"1\" ,\"2\" ,\"3\"]\n",
    "counts = [cluster_1, cluster_2, cluster_3]\n",
    "cluster_ids, cluster_sizes = np.unique(kmeans.labels_, return_counts=True)\n",
    "print(f\"Number of elements in each cluster: {cluster_sizes}\")\n",
    "\n",
    "plt.bar(clusters, counts,\n",
    "        width = 0.4)\n",
    " \n",
    "plt.xlabel(\"Clusters\")\n",
    "plt.ylabel(\"Documents\")\n",
    "plt.title(\"Cluster size\")\n",
    "plt.show()"
   ]
  },
  {
   "cell_type": "markdown",
   "metadata": {},
   "source": [
    "Note that sizes may vary considerable between clusters and among different random seeds."
   ]
  },
  {
   "cell_type": "markdown",
   "metadata": {},
   "source": [
    "## Problem 2: Summarize clusters"
   ]
  },
  {
   "cell_type": "markdown",
   "metadata": {},
   "source": [
    "Once you have a clustering, you can try to see whether it is meaningful. One useful technique in that context is to generate a **summary** for each cluster by extracting the $n$ highest-weighted terms from the centroid of each cluster. Your next task is to implement this approach.\n",
    "\n",
    "**Hint:** You will need to construct an &lsquo;inverted vocabulary&rsquo; that allows you to map from the index of a term back to the original term."
   ]
  },
  {
   "cell_type": "code",
   "execution_count": 42,
   "metadata": {},
   "outputs": [
    {
     "name": "stdout",
     "output_type": "stream",
     "text": [
      "Cluster 0: like product movie great just good cd use time album \n",
      "Cluster 1: book quot read books author reading story like just good \n",
      "Cluster 2: camera lens pictures canon digital use battery flash quality great \n"
     ]
    }
   ],
   "source": [
    "# TODO: Enter code here to compute the cluster summaries and print them\n",
    "# at Top term per cluster\n",
    "# Got help from \n",
    "# https://scikit-learn.org/stable/auto_examples/text/plot_document_clustering.html#sphx-glr-auto-examples-text-plot-document-clustering-py\n",
    "centroids = kmeans.cluster_centers_.argsort()[:,::-1]\n",
    "terms = vectorizer.get_feature_names_out()\n",
    "def summary(n):\n",
    "    #Get the three clusters\n",
    "    for i in range(3):\n",
    "        print(f\"Cluster {i}: \", end=\"\")\n",
    "        #Get top n words of centriod\n",
    "        for index in centroids[i,:n]:\n",
    "            print(f\"{terms[index]} \", end=\"\")\n",
    "        print(\"\")\n",
    "summary(10)"
   ]
  },
  {
   "cell_type": "markdown",
   "metadata": {},
   "source": [
    "Once you have computed the cluster summaries, take a minute to reflect on their quality. Is it clear what the reviews in a given cluster are about? Do the cluster summaries contain any unexpected terms?"
   ]
  },
  {
   "cell_type": "markdown",
   "metadata": {},
   "source": [
    "It is clear what the clusters are about. However, in the first cluster (0) movie is an outlier, due to cd and album is in the cluster and in second cluster quote is mispelled to quot."
   ]
  },
  {
   "cell_type": "markdown",
   "metadata": {},
   "source": [
    "## Problem 3: Compare clusterings using the Rand index"
   ]
  },
  {
   "cell_type": "markdown",
   "metadata": {},
   "source": [
    "In some scenarios, you may have gold-standard class labels available for at least a subset of your documents. In these cases you can compute the **Rand index** of a clustering, and use this measure to compare the quality of different clusterings.\n",
    "\n",
    "To compute the Rand index, we view a clustering as a binary classifier on (unordered) pairs of documents. The classifier predicts &lsquo;positive&rsquo; if and only if the two documents belong to the same cluster. The (non-normalized) Rand index of the clustering is the accuracy of this classifier relative to a reference in which a document pair belongs to the &lsquo;positive&rsquo; class if and only if the two documents in the pair have the same gold-standard class label. You are supposed to implement the procedure yourselves, not import an external function.\n",
    "\n",
    "Compare clusterings with $k \\in \\{1,3,5,7\\}$ clusters. As your evaluation data, use the first 500 documents from the original data set along with their gold-standard categories (from the `category` column)."
   ]
  },
  {
   "cell_type": "code",
   "execution_count": 8,
   "metadata": {},
   "outputs": [],
   "source": [
    "# TODO: Enter code here to (manually) compute the Rand indices for the two clusterings\n",
    "def rand_index(actual, pred):\n",
    "    #list all true pos/neg and fasle pos/neg in a list of binaries\n",
    "    tp_tn_fp_fn = []\n",
    "    for i in range(0,500):\n",
    "        for j in range(i+1,500):\n",
    "            #if predicted is same as next in list\n",
    "            if pred[i] == pred[j]:\n",
    "                if actual[i] == actual[j]:\n",
    "                    #TP\n",
    "                    tp_tn_fp_fn.append(1)\n",
    "                else:\n",
    "                    #FP\n",
    "                    tp_tn_fp_fn.append(0)\n",
    "            # if predicted is not same as next in list\n",
    "            else:\n",
    "                if actual[i] != actual[j]:\n",
    "                    #TN\n",
    "                    tp_tn_fp_fn.append(1)\n",
    "                else:\n",
    "                    #FN\n",
    "                    tp_tn_fp_fn.append(0)\n",
    "            #TP + TN / TP + TN + FP + FN\n",
    "    return (sum(tp_tn_fp_fn)/ len(tp_tn_fp_fn))\n"
   ]
  },
  {
   "cell_type": "code",
   "execution_count": 9,
   "metadata": {},
   "outputs": [
    {
     "name": "stdout",
     "output_type": "stream",
     "text": [
      "Cluster1 : 0.16626052104208416\n",
      "Cluster3 : 0.5857154308617234\n",
      "Cluster5 : 0.759623246492986\n",
      "Cluster7 : 0.8140440881763527\n"
     ]
    }
   ],
   "source": [
    "clusters = [1, 3, 5, 7]\n",
    "data = df.head(500)\n",
    "category = data['category']\n",
    "reviews = vectorizer.fit_transform(data['text'])\n",
    "#from sklearn.metrics import rand_score\n",
    "for i in clusters:\n",
    "    kmeans = KMeans(n_clusters=i,n_init = 10).fit(reviews)\n",
    "    kmeans_predict = kmeans.predict(reviews)\n",
    "    #R = rand_score(category, kmeans_predict) we checked if values were \"correct \" with sklearns own rand_score\n",
    "    # print(f\"sklearn - Cluster{i} : {R}\")\n",
    "    R_ = rand_index(category, kmeans_predict)\n",
    "    print(f\"Cluster{i} : {R_}\")\n"
   ]
  },
  {
   "cell_type": "markdown",
   "metadata": {},
   "source": [
    "*TODO: Insert a summary of your results here*\n",
    "\n",
    "We can notice that the rand score increases with the amount of clusters added to the KMeans function. However at cluster 7 we notice we have achieved the \"elbow point\" and the score does not significally increase with more clusters after that. "
   ]
  },
  {
   "cell_type": "markdown",
   "metadata": {},
   "source": [
    "## Topic modelling data set"
   ]
  },
  {
   "cell_type": "markdown",
   "metadata": {},
   "source": [
    "The data set for the topic modelling part of this lab is the collection of all [State of the Union](https://en.wikipedia.org/wiki/State_of_the_Union) addresses from the years 1975–2000. These speeches come as a single text file with one sentence per line. The following code cell prints the first 5 lines from the data file:"
   ]
  },
  {
   "cell_type": "code",
   "execution_count": 10,
   "metadata": {},
   "outputs": [
    {
     "name": "stdout",
     "output_type": "stream",
     "text": [
      "mr speaker mr vice president members of the 94th congress and distinguished guests\n",
      "twenty six years ago a freshman congressman a young fellow with lots of idealism who was out to change the world stood before sam rayburn in the well of the house and solemnly swore to the same oath that all of you took yesterday an unforgettable experience and i congratulate you all\n",
      "two days later that same freshman stood at the back of this great chamber over there someplace as president truman all charged up by his single handed election victory reported as the constitution requires on the state of the union\n",
      "when the bipartisan applause stopped president truman said i am happy to report to this 81st congress that the state of the union is good our nation is better able than ever before to meet the needs of the american people and to give them their fair chance in the pursuit of happiness it is foremost among the nations of the world in the search for peace\n",
      "today that freshman member from michigan stands where mr truman stood and i must say to you that the state of the union is not good\n",
      "millions of americans are out of work\n"
     ]
    }
   ],
   "source": [
    "with open('sotu_1975_2000.txt') as source:\n",
    "    for i, line in enumerate(source):\n",
    "        print(line.rstrip())\n",
    "        if i >= 5:\n",
    "            break"
   ]
  },
  {
   "cell_type": "markdown",
   "metadata": {},
   "source": [
    "Take a few minutes to think about what topics you would expect in this data set."
   ]
  },
  {
   "cell_type": "markdown",
   "metadata": {},
   "source": [
    "## Problem 4: Train a topic model"
   ]
  },
  {
   "cell_type": "markdown",
   "metadata": {},
   "source": [
    "Your first task on the topic modelling data is to train an LDA model. For this task you will be using [spaCy](https://spacy.io/) and the [gensim](https://radimrehurek.com/gensim/) topic modelling library.\n",
    "\n",
    "Start by preprocessing the data using spaCy. Given that the data set for this problem is rather small, you do not have to exclude any components from the standard pipeline. Filter out stop words, non-alphabetic tokens, and tokens less than 3 characters in length. Store the documents as a nested list where the first level of nesting corresponds to the sentences and the second level corresponds to the tokens in each sentence."
   ]
  },
  {
   "cell_type": "code",
   "execution_count": 11,
   "metadata": {},
   "outputs": [],
   "source": [
    "# TODO: Replace the following lines with your own code for preprocessing the documents\n",
    "import spacy\n",
    "nlp = spacy.load('en_core_web_sm')\n",
    "\n",
    "def preprocess(text):\n",
    "    doc_list = []\n",
    "    doc = nlp(text)\n",
    "    for token in doc:\n",
    "        if not token.is_stop and token.is_alpha and len(token) >=3:\n",
    "                doc_list.append(token.lemma_)\n",
    "            \n",
    "\n",
    "    return doc_list\n",
    "\n",
    "with open('sotu_1975_2000.txt') as source:\n",
    "    documents = [line.split() for line in source]\n",
    "processed_docs = []\n",
    "for sentence in documents:\n",
    "    processed_docs.append(preprocess(str(sentence)))\n",
    "\n",
    "    \n"
   ]
  },
  {
   "cell_type": "markdown",
   "metadata": {},
   "source": [
    "Test your preprocessing by running the following cell:"
   ]
  },
  {
   "cell_type": "code",
   "execution_count": 12,
   "metadata": {},
   "outputs": [
    {
     "data": {
      "text/plain": [
       "'reduce oil import million barrel day end year million barrel day end'"
      ]
     },
     "execution_count": 12,
     "metadata": {},
     "output_type": "execute_result"
    }
   ],
   "source": [
    "' '.join(processed_docs[42])"
   ]
  },
  {
   "cell_type": "markdown",
   "metadata": {},
   "source": [
    "You should get the following output:"
   ]
  },
  {
   "cell_type": "raw",
   "metadata": {},
   "source": [
    "'reduce oil imports million barrels day end year million barrels day end'"
   ]
  },
  {
   "cell_type": "markdown",
   "metadata": {},
   "source": [
    "Once you have the list of documents, skim the section [Pre-process and vectorize the documents](https://radimrehurek.com/gensim/auto_examples/tutorials/run_lda.html#pre-process-and-vectorize-the-documents) of the gensim documentation to learn how to create the dictionary and the vectorized corpus representation required by gensim. (Note that you cannot use the standard scikit-learn pipeline in this case.) Then, write code to train an [LdaModel](https://radimrehurek.com/gensim/models/ldamodel.html) for $k=10$ topics, and using default values for all other parameters."
   ]
  },
  {
   "cell_type": "code",
   "execution_count": 13,
   "metadata": {},
   "outputs": [],
   "source": [
    "# TODO: Enter code here to train an LDA model and store it in a variable `model`\n",
    "from gensim.corpora.dictionary import Dictionary\n",
    "import gensim.corpora as corpora\n",
    "from gensim.models import LdaModel\n",
    "\n",
    "num_topics=10\n",
    "\n",
    "common_dictionary = Dictionary(processed_docs)\n",
    "common_corpus = [common_dictionary.doc2bow(text) for text in processed_docs]\n",
    "id2word = corpora.Dictionary(processed_docs)  \n",
    "\n",
    "\n",
    "model = LdaModel(corpus=common_corpus,\n",
    "                id2word=id2word,\n",
    "                num_topics = num_topics\n",
    "                )\n",
    "                \n"
   ]
  },
  {
   "cell_type": "markdown",
   "metadata": {},
   "source": [
    "Once you have a trained model, run the following cell to print the topics:"
   ]
  },
  {
   "cell_type": "code",
   "execution_count": 14,
   "metadata": {},
   "outputs": [
    {
     "data": {
      "text/plain": [
       "[(0,\n",
       "  '0.022*\"year\" + 0.018*\"child\" + 0.017*\"family\" + 0.013*\"work\" + 0.010*\"care\" + 0.010*\"people\" + 0.009*\"tax\" + 0.009*\"time\" + 0.008*\"cut\" + 0.008*\"right\"'),\n",
       " (1,\n",
       "  '0.014*\"world\" + 0.012*\"america\" + 0.012*\"nation\" + 0.011*\"year\" + 0.010*\"new\" + 0.010*\"peace\" + 0.010*\"people\" + 0.008*\"democracy\" + 0.007*\"work\" + 0.006*\"china\"'),\n",
       " (2,\n",
       "  '0.016*\"year\" + 0.014*\"child\" + 0.011*\"school\" + 0.009*\"american\" + 0.009*\"people\" + 0.007*\"state\" + 0.007*\"world\" + 0.006*\"america\" + 0.006*\"congress\" + 0.006*\"americans\"'),\n",
       " (3,\n",
       "  '0.016*\"new\" + 0.011*\"america\" + 0.009*\"year\" + 0.009*\"world\" + 0.009*\"nuclear\" + 0.008*\"need\" + 0.007*\"state\" + 0.007*\"trade\" + 0.006*\"community\" + 0.006*\"government\"'),\n",
       " (4,\n",
       "  '0.014*\"people\" + 0.014*\"year\" + 0.009*\"let\" + 0.009*\"work\" + 0.008*\"tax\" + 0.007*\"know\" + 0.006*\"country\" + 0.006*\"cut\" + 0.006*\"congress\" + 0.006*\"community\"'),\n",
       " (5,\n",
       "  '0.019*\"year\" + 0.013*\"work\" + 0.012*\"new\" + 0.012*\"college\" + 0.010*\"program\" + 0.008*\"job\" + 0.008*\"federal\" + 0.007*\"america\" + 0.007*\"community\" + 0.006*\"million\"'),\n",
       " (6,\n",
       "  '0.018*\"america\" + 0.013*\"year\" + 0.011*\"century\" + 0.010*\"good\" + 0.010*\"work\" + 0.010*\"people\" + 0.009*\"americans\" + 0.009*\"congress\" + 0.009*\"child\" + 0.008*\"nation\"'),\n",
       " (7,\n",
       "  '0.018*\"work\" + 0.014*\"help\" + 0.013*\"government\" + 0.012*\"new\" + 0.011*\"people\" + 0.010*\"year\" + 0.008*\"support\" + 0.008*\"community\" + 0.007*\"america\" + 0.007*\"way\"'),\n",
       " (8,\n",
       "  '0.013*\"child\" + 0.013*\"school\" + 0.009*\"budget\" + 0.009*\"people\" + 0.009*\"year\" + 0.007*\"raise\" + 0.007*\"world\" + 0.007*\"new\" + 0.007*\"let\" + 0.006*\"tax\"'),\n",
       " (9,\n",
       "  '0.017*\"work\" + 0.014*\"america\" + 0.012*\"year\" + 0.011*\"new\" + 0.011*\"people\" + 0.011*\"state\" + 0.010*\"community\" + 0.009*\"world\" + 0.007*\"welfare\" + 0.007*\"crime\"')]"
      ]
     },
     "execution_count": 14,
     "metadata": {},
     "output_type": "execute_result"
    }
   ],
   "source": [
    "model.print_topics()"
   ]
  },
  {
   "cell_type": "markdown",
   "metadata": {},
   "source": [
    "Inspect the topics. Can you &lsquo;label&rsquo; each topic with a short description of what it is about? Do the topics match your expectations?"
   ]
  },
  {
   "cell_type": "markdown",
   "metadata": {},
   "source": [
    "A few of the topics are fairly clear, and could be guessed at. However, most feel like a clump of related words, with some random loosely related words thrown in, which makes it difficult to classify it with any specific label."
   ]
  },
  {
   "cell_type": "markdown",
   "metadata": {},
   "source": [
    "## Problem 5: Monitor a topic model for convergence"
   ]
  },
  {
   "cell_type": "markdown",
   "metadata": {},
   "source": [
    "When learning an LDA model, it is important to make sure that the training algorithm has converged to a stable posterior distribution. One way to do so is to plot, after each training epochs (or &lsquo;pass&rsquo;, in gensim parlance) the log likelihood of the training data under the posterior. Your last task in this lab is to create such a plot and, based on this, to suggest an appropriate number of epochs.\n",
    "\n",
    "To collect information about the posterior likelihood after each pass, we need to enable the logging facilities of gensim. Once this is done, gensim will add various diagnostics to a log file `gensim.log`."
   ]
  },
  {
   "cell_type": "code",
   "execution_count": 15,
   "metadata": {},
   "outputs": [],
   "source": [
    "import logging\n",
    "\n",
    "logging.basicConfig(filename='gensim.log', format='%(asctime)s:%(levelname)s:%(message)s', level=logging.INFO)"
   ]
  },
  {
   "cell_type": "markdown",
   "metadata": {},
   "source": [
    "The following function will parse the generated logfile and return the list of log likelihoods."
   ]
  },
  {
   "cell_type": "code",
   "execution_count": 16,
   "metadata": {},
   "outputs": [],
   "source": [
    "import re\n",
    "\n",
    "def parse_logfile():\n",
    "    matcher = re.compile('(-*\\d+\\.\\d+) per-word .* (\\d+\\.\\d+) perplexity')\n",
    "    likelihoods = []\n",
    "    with open('gensim.log') as source:\n",
    "        for line in source:\n",
    "            match = matcher.search(line)\n",
    "            if match:\n",
    "                likelihoods.append(float(match.group(1)))\n",
    "    return likelihoods"
   ]
  },
  {
   "cell_type": "markdown",
   "metadata": {},
   "source": [
    "Your task now is to re-train your LDA model for 50&nbsp;passes, retrieve the list of log likelihoods, and create a plot from this data."
   ]
  },
  {
   "cell_type": "code",
   "execution_count": 17,
   "metadata": {},
   "outputs": [],
   "source": [
    "# TODO: Enter code here to generate the convergence plot\n",
    "model = LdaModel(corpus=common_corpus,\n",
    "                id2word=id2word,\n",
    "                num_topics = num_topics,\n",
    "                passes = 50\n",
    "                )"
   ]
  },
  {
   "cell_type": "code",
   "execution_count": 18,
   "metadata": {},
   "outputs": [
    {
     "data": {
      "text/plain": [
       "[<matplotlib.lines.Line2D at 0x7ff66a37c580>]"
      ]
     },
     "execution_count": 18,
     "metadata": {},
     "output_type": "execute_result"
    },
    {
     "data": {
      "image/png": "[encoded data removed]",
      "text/plain": [
       "<Figure size 640x480 with 1 Axes>"
      ]
     },
     "metadata": {},
     "output_type": "display_data"
    }
   ],
   "source": [
    "plt.plot(parse_logfile())"
   ]
  },
  {
   "cell_type": "markdown",
   "metadata": {},
   "source": [
    "How do you interpret your plot? Based on the plot, what would be a reasonable choice for the number of passes? Retrain your LDA model with that number and re-inspect the topics it finds. Do you consider the new topics to be &lsquo;better&rsquo; than the ones that you got from the 1-pass model in Problem&nbsp;4?"
   ]
  },
  {
   "cell_type": "markdown",
   "metadata": {},
   "source": [
    "We interpret the plot as when we pass more than 7-9 passes it stagnates and does not give us significally better result.\n",
    "\n",
    "Best number of passes should be 7-9. Lets try 8 passes"
   ]
  },
  {
   "cell_type": "code",
   "execution_count": 20,
   "metadata": {},
   "outputs": [
    {
     "data": {
      "text/plain": [
       "[(0,\n",
       "  '0.024*\"child\" + 0.018*\"america\" + 0.014*\"community\" + 0.013*\"crime\" + 0.012*\"work\" + 0.011*\"know\" + 0.011*\"right\" + 0.011*\"people\" + 0.010*\"challenge\" + 0.010*\"americans\"'),\n",
       " (1,\n",
       "  '0.018*\"trade\" + 0.015*\"nation\" + 0.011*\"year\" + 0.008*\"united\" + 0.008*\"world\" + 0.008*\"country\" + 0.008*\"good\" + 0.008*\"export\" + 0.007*\"american\" + 0.007*\"work\"'),\n",
       " (2,\n",
       "  '0.023*\"year\" + 0.019*\"work\" + 0.018*\"people\" + 0.014*\"new\" + 0.011*\"school\" + 0.010*\"america\" + 0.009*\"congress\" + 0.009*\"child\" + 0.009*\"government\" + 0.008*\"time\"'),\n",
       " (3,\n",
       "  '0.016*\"new\" + 0.013*\"america\" + 0.013*\"president\" + 0.012*\"century\" + 0.011*\"member\" + 0.010*\"house\" + 0.010*\"speaker\" + 0.009*\"let\" + 0.009*\"congress\" + 0.009*\"land\"'),\n",
       " (4,\n",
       "  '0.019*\"peace\" + 0.019*\"world\" + 0.015*\"nation\" + 0.015*\"america\" + 0.010*\"future\" + 0.009*\"freedom\" + 0.009*\"state\" + 0.008*\"people\" + 0.008*\"year\" + 0.007*\"union\"'),\n",
       " (5,\n",
       "  '0.024*\"year\" + 0.015*\"tax\" + 0.014*\"health\" + 0.014*\"care\" + 0.012*\"budget\" + 0.012*\"family\" + 0.011*\"cut\" + 0.011*\"work\" + 0.011*\"million\" + 0.010*\"job\"'),\n",
       " (6,\n",
       "  '0.030*\"nuclear\" + 0.016*\"weapon\" + 0.011*\"soviet\" + 0.010*\"continue\" + 0.010*\"force\" + 0.010*\"year\" + 0.010*\"treaty\" + 0.009*\"effort\" + 0.009*\"strategic\" + 0.008*\"missile\"'),\n",
       " (7,\n",
       "  '0.012*\"congress\" + 0.011*\"american\" + 0.011*\"world\" + 0.010*\"america\" + 0.009*\"know\" + 0.009*\"home\" + 0.009*\"thank\" + 0.008*\"people\" + 0.007*\"country\" + 0.006*\"tonight\"'),\n",
       " (8,\n",
       "  '0.015*\"europe\" + 0.015*\"china\" + 0.014*\"asia\" + 0.013*\"common\" + 0.011*\"world\" + 0.010*\"nato\" + 0.010*\"ally\" + 0.009*\"interest\" + 0.009*\"country\" + 0.008*\"relation\"'),\n",
       " (9,\n",
       "  '0.019*\"program\" + 0.017*\"government\" + 0.013*\"federal\" + 0.011*\"help\" + 0.010*\"policy\" + 0.010*\"state\" + 0.010*\"new\" + 0.008*\"administration\" + 0.008*\"economic\" + 0.008*\"need\"')]"
      ]
     },
     "execution_count": 20,
     "metadata": {},
     "output_type": "execute_result"
    }
   ],
   "source": [
    "model = LdaModel(corpus=common_corpus,\n",
    "                id2word=id2word,\n",
    "                num_topics = num_topics,\n",
    "                passes = 8\n",
    "                )\n",
    "model.print_topics()"
   ]
  },
  {
   "cell_type": "markdown",
   "metadata": {},
   "source": [
    "The topics from the multi-pass model were significantly better than the single pass model. They were significantly more coherrent, with less strange combinations like having \"tax\" and \"child\" in the same topic. With the multi-pass, we instead get topics that are immediatly obvious what they're about, for example the topic containing \"nuclear\", \"weapon\", \"soviet\", \"continue\", \"force\", \"year\", etc is obviously about soviets area with their nuclear program and what threat it imposes"
   ]
  },
  {
   "cell_type": "markdown",
   "metadata": {},
   "source": [
    "## Reflection questions"
   ]
  },
  {
   "cell_type": "markdown",
   "metadata": {},
   "source": [
    "The following reflection questions will help you prepare for the diagnostic test. Answer each of them in the form of a short text and put your answers in the cell below. You will get feedback on your answers from your lab assistant."
   ]
  },
  {
   "cell_type": "markdown",
   "metadata": {},
   "source": [
    "**RQ 3.1:** Based on your experiments in Problem&nbsp;2 and Problem&nbsp;3, what is the relation between the quality of a clustering and the number of clusters? What happens when the number of clusters is too low, or too high? For this particular data set, what would a &lsquo;good&rsquo; number of clusters be?\n",
    "\n",
    "**RQ 3.2:** Explain why it is important to monitor an LDA model for convergence and not simply use, say, 1000&nbsp;passes. How is the log likelihood used in this context? Were the topics from the multi-pass model &lsquo;better&rsquo; than the topics from the 1-pass model?\n",
    "\n",
    "**RQ 3.3:** What are the differences between $k$-means and LDA? When would you use one, when the other?"
   ]
  },
  {
   "cell_type": "markdown",
   "metadata": {},
   "source": [
    "*TODO: Enter your answers here*\n",
    "\n",
    "**RQ3.1** When we have too few clusters, nothing happens, we don't see any positive effect from the clustering. But when we have too many clusters, we start getting diminishing returns after reaching the elbow point. For this dataset, the elbow point appears to be around 7 clusters. With only a single cluster, the kmeans predictions were barely better than random assignment, but we saw significant improvement with just 3 clusters.\n",
    "\n",
    "**RQ3.2** It is important to the LDA models convergence in order to be able to stop it once it reaches convergence, and therefore avoid overfitting the model. The log likelihood makes this easy, as we can see diminishing returns start to hit hard after only 7 or 9 passes. Continuing to run the model after this point will bring no significant benefits to performance, and only increases the likelihood of the model overfitting and becoming less accurate than before.\n",
    "\n",
    "**RQ3.3** The difference between K-means and LDA is that K-means uses hard clustering and LDA uses Soft clustering\n",
    "\n",
    "K-means should be used when one strives for categories that are \"hard\" labeled, such as the document can only be assessed with one \"true\" topic (such in the first part of the lab with labeled categories). For example in a cluster with categories; Computers, cars and music, the document assessed with \"It is a good motor in the car\" should only be adressed to the topic cars. More or less it categorizes all documents within its cluster to the label.\n",
    "\n",
    "Because LDA is a soft clustering method, this method could be used to assess when documents are more fuzzy and not certain if it belongs to one or many topics. So it evaluates how big percentage it is that it belongs to a certian topic. For example the document \"The car with its motor is very enjoyable\". Could be within the topics of childrens toys and cars.\n",
    "\n"
   ]
  },
  {
   "cell_type": "markdown",
   "metadata": {},
   "source": [
    "**Congratulations on finishing L3! 👍**"
   ]
  }
 ],
 "metadata": {
  "kernelspec": {
   "display_name": "Python 3 (ipykernel)",
   "language": "python",
   "name": "python3"
  },
  "language_info": {
   "codemirror_mode": {
    "name": "ipython",
    "version": 3
   },
   "file_extension": ".py",
   "mimetype": "text/x-python",
   "name": "python",
   "nbconvert_exporter": "python",
   "pygments_lexer": "ipython3",
   "version": "3.9.1"
  },
  "vscode": {
   "interpreter": {
    "hash": "9e377d4b1117024990b63de2533c035e1c34ec5f5422d6f429ccfbbd0115c7fa"
   }
  }
 },
 "nbformat": 4,
 "nbformat_minor": 2
}
