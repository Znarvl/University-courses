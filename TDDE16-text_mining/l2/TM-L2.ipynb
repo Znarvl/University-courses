{
 "cells": [
  {
   "cell_type": "markdown",
   "metadata": {},
   "source": [
    "# L2: Text classification"
   ]
  },
  {
   "cell_type": "markdown",
   "metadata": {},
   "source": [
    "Text classification is the task of sorting text documents into predefined classes. The concrete problem you will be working on in this lab is the classification of texts with respect to their political affiliation. The specific texts you are going to classify are speeches held in the [Riksdag](https://www.riksdagen.se/en/), the Swedish national legislature."
   ]
  },
  {
   "cell_type": "markdown",
   "metadata": {},
   "source": [
    "**Before starting with this lab, here is a quick reminder about our [Rules for hand-in assignments](https://www.ida.liu.se/~TDDE16/exam.en.shtml#handins) and the [Policy on cheating and plagiarism](https://www.ida.liu.se/~TDDE16/exam.en.shtml#cheating).**"
   ]
  },
  {
   "cell_type": "markdown",
   "metadata": {},
   "source": [
    "## Data set"
   ]
  },
  {
   "cell_type": "markdown",
   "metadata": {},
   "source": [
    "The raw data for this lab comes from [The Riksdag’s Open Data](https://data.riksdagen.se/in-english/). We have tokenized the speeches and put them into two compressed [JSON](https://en.wikipedia.org/wiki/JSON) files:\n",
    "\n",
    "* `speeches-201718.json.bz2` (speeches from the 2017/2018 parliamentary session)\n",
    "* `speeches-201819.json.bz2` (ditto, from the 2018/2019 session)\n",
    "\n",
    "We start by loading these files into two separate data frames."
   ]
  },
  {
   "cell_type": "code",
   "execution_count": 2,
   "metadata": {},
   "outputs": [],
   "source": [
    "import pandas as pd\n",
    "import bz2\n",
    "\n",
    "with bz2.open('speeches-201718.json.bz2') as source:\n",
    "    speeches_201718 = pd.read_json(source)\n",
    "\n",
    "with bz2.open('speeches-201819.json.bz2') as source:\n",
    "    speeches_201819 = pd.read_json(source)"
   ]
  },
  {
   "cell_type": "markdown",
   "metadata": {},
   "source": [
    "When you inspect the two data frames, you can see that there are three labelled columns: `id` (the official speech ID), `words` (the space-separated words of the speech), and `party` (the party of the speaker, represented by its customary abbreviation)."
   ]
  },
  {
   "cell_type": "code",
   "execution_count": 3,
   "metadata": {},
   "outputs": [
    {
     "data": {
      "text/html": [
       "<div>\n",
       "<style scoped>\n",
       "    .dataframe tbody tr th:only-of-type {\n",
       "        vertical-align: middle;\n",
       "    }\n",
       "\n",
       "    .dataframe tbody tr th {\n",
       "        vertical-align: top;\n",
       "    }\n",
       "\n",
       "    .dataframe thead th {\n",
       "        text-align: right;\n",
       "    }\n",
       "</style>\n",
       "<table border=\"1\" class=\"dataframe\">\n",
       "  <thead>\n",
       "    <tr style=\"text-align: right;\">\n",
       "      <th></th>\n",
       "      <th>id</th>\n",
       "      <th>words</th>\n",
       "      <th>party</th>\n",
       "    </tr>\n",
       "  </thead>\n",
       "  <tbody>\n",
       "    <tr>\n",
       "      <th>0</th>\n",
       "      <td>H5-002-004</td>\n",
       "      <td>eders majestäter eders kungliga högheter herr ...</td>\n",
       "      <td>S</td>\n",
       "    </tr>\n",
       "    <tr>\n",
       "      <th>1</th>\n",
       "      <td>H5-003-001</td>\n",
       "      <td>aktuell debatt om situationen för ensamkommand...</td>\n",
       "      <td>V</td>\n",
       "    </tr>\n",
       "    <tr>\n",
       "      <th>2</th>\n",
       "      <td>H5-003-002</td>\n",
       "      <td>herr talman och ledamöter jag vill börja med a...</td>\n",
       "      <td>S</td>\n",
       "    </tr>\n",
       "    <tr>\n",
       "      <th>3</th>\n",
       "      <td>H5-003-003</td>\n",
       "      <td>herr talman åhörare den här debatten handlar a...</td>\n",
       "      <td>M</td>\n",
       "    </tr>\n",
       "    <tr>\n",
       "      <th>4</th>\n",
       "      <td>H5-003-004</td>\n",
       "      <td>herr talman ansvar och rättssäkerhet är två or...</td>\n",
       "      <td>SD</td>\n",
       "    </tr>\n",
       "  </tbody>\n",
       "</table>\n",
       "</div>"
      ],
      "text/plain": [
       "           id                                              words party\n",
       "0  H5-002-004  eders majestäter eders kungliga högheter herr ...     S\n",
       "1  H5-003-001  aktuell debatt om situationen för ensamkommand...     V\n",
       "2  H5-003-002  herr talman och ledamöter jag vill börja med a...     S\n",
       "3  H5-003-003  herr talman åhörare den här debatten handlar a...     M\n",
       "4  H5-003-004  herr talman ansvar och rättssäkerhet är två or...    SD"
      ]
     },
     "execution_count": 3,
     "metadata": {},
     "output_type": "execute_result"
    }
   ],
   "source": [
    "speeches_201718.head()"
   ]
  },
  {
   "cell_type": "markdown",
   "metadata": {},
   "source": [
    "Throughout the lab, we will be using the speeches from 2017/2018 as our training data, and the speeches from 2018/2019 as our test data."
   ]
  },
  {
   "cell_type": "code",
   "execution_count": 4,
   "metadata": {},
   "outputs": [],
   "source": [
    "training_data, test_data = speeches_201718, speeches_201819"
   ]
  },
  {
   "cell_type": "markdown",
   "metadata": {},
   "source": [
    "For later reference, we store the sorted list of party abbreviations."
   ]
  },
  {
   "cell_type": "code",
   "execution_count": 5,
   "metadata": {},
   "outputs": [
    {
     "name": "stdout",
     "output_type": "stream",
     "text": [
      "['C', 'KD', 'L', 'M', 'MP', 'S', 'SD', 'V']\n"
     ]
    }
   ],
   "source": [
    "parties = sorted(training_data['party'].unique())\n",
    "print(parties)"
   ]
  },
  {
   "cell_type": "markdown",
   "metadata": {},
   "source": [
    "## Problem 1: Visualization"
   ]
  },
  {
   "cell_type": "markdown",
   "metadata": {},
   "source": [
    "Your first task is to get to know the data better by producing a simple visualization.\n",
    "\n",
    "If you are not familiar with the Swedish political system and the parties represented in the Riksdag in particular, then we suggest that you have a look at the Wikipedia article about the [2018 Swedish general election](https://en.wikipedia.org/wiki/2018_Swedish_general_election).\n",
    "\n",
    "For the lab, we ask you to compare the two data frames with respect to the distribution of the speeches over the different parties. Write code to generate two bar plots that visualize this information, one for the 2017/2018 speeches and one for the 2018/2019 speeches. Inspect the two plots, and compare them\n",
    "\n",
    "* to each other\n",
    "* to the results of the 2014 and the 2018 general elections\n",
    "\n",
    "Summarize your observations in a short text in the cell below.\n",
    "\n",
    "**Tip:** If you need help with creating bar plots, [Bar Plot using Pandas](https://dfrieds.com/data-visualizations/bar-plot-python-pandas) provides a useful tutorial."
   ]
  },
  {
   "cell_type": "code",
   "execution_count": 6,
   "metadata": {},
   "outputs": [
    {
     "name": "stdout",
     "output_type": "stream",
     "text": [
      "Index(['S', 'M', 'SD', 'V', 'KD', 'MP', 'C', 'L'], dtype='object')\n"
     ]
    },
    {
     "data": {
      "image/png": "[encoded data removed]",
      "text/plain": [
       "<Figure size 640x480 with 1 Axes>"
      ]
     },
     "metadata": {},
     "output_type": "display_data"
    }
   ],
   "source": [
    "import matplotlib.pyplot as plt\n",
    "import numpy as np\n",
    "count_training = training_data['party'].value_counts()\n",
    "count_test = test_data['party'].value_counts()\n",
    "\n",
    "\n",
    "n=8\n",
    "r = np.arange(n)\n",
    "width = 0.25\n",
    "print(count_test.keys())\n",
    "\n",
    "  \n",
    "plt.bar(r, count_training, color = 'b',\n",
    "        width = width, edgecolor = 'black',\n",
    "        label='17/18')\n",
    "plt.bar(r + width, count_test, color = 'g',\n",
    "        width = width, edgecolor = 'black',\n",
    "        label='18/19')\n",
    "plt.xticks(r + width/2,['S','M','SD','V', 'KD', 'MP', 'C', 'L'])\n",
    "\n",
    "plt.xlabel(\"Parties\")\n",
    "plt.ylabel(\"Speeches\")\n",
    "plt.title(\"Speeches, traning vs test\")\n",
    "plt.legend()\n",
    "plt.show()\n",
    "\n"
   ]
  },
  {
   "cell_type": "markdown",
   "metadata": {},
   "source": [
    "*TODO: Enter your summary here*\n",
    "From the plot we can derive the answer that before the general election all of the parties made more speeches than after the election.\n",
    "The fact that S won both the general election 14 and 18 could be correlated that they made most speeches of all the parties."
   ]
  },
  {
   "cell_type": "markdown",
   "metadata": {},
   "source": [
    "## Problem 2: Naive Bayes classifier"
   ]
  },
  {
   "cell_type": "markdown",
   "metadata": {},
   "source": [
    "You are now ready to train and evaluate a classifier. More specifically, we ask you to train a [Multinomial Naive Bayes](https://scikit-learn.org/stable/modules/naive_bayes.html#multinomial-naive-bayes) classifier. You will have to\n",
    "\n",
    "1. vectorize the speeches in the training data\n",
    "2. instantiate and fit the Naive Bayes model\n",
    "3. evaluate the model on the test data\n",
    "\n",
    "The scikit-learn library provides a convenience class [Pipeline](https://scikit-learn.org/stable/modules/generated/sklearn.pipeline.Pipeline.html) that allows you to solve the first two tasks with very compact code. For the evaluation you can use the function [`classification_report`](https://scikit-learn.org/stable/modules/generated/sklearn.metrics.classification_report.html), which will report per-class precision, recall and F1, as well as overall accuracy."
   ]
  },
  {
   "cell_type": "code",
   "execution_count": 7,
   "metadata": {},
   "outputs": [
    {
     "name": "stdout",
     "output_type": "stream",
     "text": [
      "              precision    recall  f1-score   support\n",
      "\n",
      "           C       0.63      0.04      0.07       671\n",
      "          KD       0.70      0.02      0.03       821\n",
      "           L       0.92      0.02      0.04       560\n",
      "           M       0.36      0.68      0.47      1644\n",
      "          MP       0.36      0.25      0.29       809\n",
      "           S       0.46      0.84      0.59      2773\n",
      "          SD       0.57      0.12      0.20      1060\n",
      "           V       0.59      0.15      0.24       950\n",
      "\n",
      "    accuracy                           0.43      9288\n",
      "   macro avg       0.57      0.26      0.24      9288\n",
      "weighted avg       0.52      0.43      0.34      9288\n",
      "\n"
     ]
    }
   ],
   "source": [
    "# TODO: Write code here to train and evaluate a Multinomial Naive Bayes classifier\n",
    "from sklearn.naive_bayes import MultinomialNB\n",
    "from sklearn.pipeline import Pipeline\n",
    "from sklearn.metrics import classification_report\n",
    "from sklearn.feature_extraction.text import CountVectorizer\n",
    "\n",
    "\n",
    "training_x = training_data['words']\n",
    "test_x = test_data['words']\n",
    "\n",
    "training_y = training_data['party']\n",
    "test_y = test_data['party']\n",
    "\n",
    "pipe = Pipeline(steps=[('countVec', CountVectorizer()), ('multNB', MultinomialNB())])\n",
    "\n",
    "pipe.fit(training_x, training_y)\n",
    "prediction = pipe.predict(test_x)\n",
    "print(classification_report(test_y, prediction))\n"
   ]
  },
  {
   "cell_type": "markdown",
   "metadata": {},
   "source": [
    "Would you have expected the results that you got?"
   ]
  },
  {
   "cell_type": "markdown",
   "metadata": {},
   "source": [
    "Answer:\n",
    "Yes, for example, if looked at S we can see a really high recall score, this would be a consequense of S maintaining the largest dataset of them all. This scews the other parties recall score and reduces them, for example look at L and KD with their 0.02 recall score. "
   ]
  },
  {
   "cell_type": "markdown",
   "metadata": {},
   "source": [
    "## Problem 3: Baselines"
   ]
  },
  {
   "cell_type": "markdown",
   "metadata": {},
   "source": [
    "Evaluation metrics such as accuracy should not be understood as absolute measures of performance, but should be used only to compare different classifiers. When other classifiers are not available, a simple baseline is a classifier that generates predictions by random sampling, respecting the training set&rsquo;s class distribution. This baseline is implemented by the class [DummyClassifier](https://scikit-learn.org/stable/modules/generated/sklearn.dummy.DummyClassifier.html). What is the performance of the random baseline on the test data?"
   ]
  },
  {
   "cell_type": "code",
   "execution_count": 8,
   "metadata": {},
   "outputs": [
    {
     "name": "stdout",
     "output_type": "stream",
     "text": [
      "              precision    recall  f1-score   support\n",
      "\n",
      "           C       0.07      0.07      0.07       865\n",
      "          KD       0.05      0.05      0.05       743\n",
      "           L       0.07      0.07      0.07       719\n",
      "           M       0.19      0.19      0.19      2370\n",
      "          MP       0.12      0.13      0.13      1481\n",
      "           S       0.35      0.35      0.35      4261\n",
      "          SD       0.07      0.08      0.07      1010\n",
      "           V       0.08      0.08      0.08       894\n",
      "\n",
      "    accuracy                           0.20     12343\n",
      "   macro avg       0.13      0.13      0.13     12343\n",
      "weighted avg       0.20      0.20      0.20     12343\n",
      "\n"
     ]
    }
   ],
   "source": [
    "from sklearn.dummy import DummyClassifier\n",
    "dummy_clf = DummyClassifier(strategy=\"stratified\")\n",
    "dummy_clf.fit(training_x,training_y)\n",
    "dummy_prediction = dummy_clf.predict(training_x)\n",
    "\n",
    "print(classification_report(training_y, dummy_prediction))\n"
   ]
  },
  {
   "cell_type": "markdown",
   "metadata": {},
   "source": [
    "An even dumber baseline is to predict, for every document, that class which appears most often in the training data. This baseline is also called the most frequent class baseline. What is the accuracy of that baseline on the test data?"
   ]
  },
  {
   "cell_type": "code",
   "execution_count": 9,
   "metadata": {},
   "outputs": [
    {
     "name": "stdout",
     "output_type": "stream",
     "text": [
      "              precision    recall  f1-score   support\n",
      "\n",
      "           C       0.00      0.00      0.00       865\n",
      "          KD       0.00      0.00      0.00       743\n",
      "           L       0.00      0.00      0.00       719\n",
      "           M       0.00      0.00      0.00      2370\n",
      "          MP       0.00      0.00      0.00      1481\n",
      "           S       0.35      1.00      0.51      4261\n",
      "          SD       0.00      0.00      0.00      1010\n",
      "           V       0.00      0.00      0.00       894\n",
      "\n",
      "    accuracy                           0.35     12343\n",
      "   macro avg       0.04      0.12      0.06     12343\n",
      "weighted avg       0.12      0.35      0.18     12343\n",
      "\n"
     ]
    },
    {
     "name": "stderr",
     "output_type": "stream",
     "text": [
      "/home/glockengold/dev/tdde16/tdde16_venv/lib/python3.10/site-packages/sklearn/metrics/_classification.py:1334: UndefinedMetricWarning: Precision and F-score are ill-defined and being set to 0.0 in labels with no predicted samples. Use `zero_division` parameter to control this behavior.\n",
      "  _warn_prf(average, modifier, msg_start, len(result))\n",
      "/home/glockengold/dev/tdde16/tdde16_venv/lib/python3.10/site-packages/sklearn/metrics/_classification.py:1334: UndefinedMetricWarning: Precision and F-score are ill-defined and being set to 0.0 in labels with no predicted samples. Use `zero_division` parameter to control this behavior.\n",
      "  _warn_prf(average, modifier, msg_start, len(result))\n",
      "/home/glockengold/dev/tdde16/tdde16_venv/lib/python3.10/site-packages/sklearn/metrics/_classification.py:1334: UndefinedMetricWarning: Precision and F-score are ill-defined and being set to 0.0 in labels with no predicted samples. Use `zero_division` parameter to control this behavior.\n",
      "  _warn_prf(average, modifier, msg_start, len(result))\n"
     ]
    }
   ],
   "source": [
    "# TODO: Write code here to print the accuracy of the most frequent class baseline\n",
    "dummy_clf = DummyClassifier(strategy=\"most_frequent\")\n",
    "dummy_clf.fit(training_x,training_y)\n",
    "dummy_prediction = dummy_clf.predict(training_x)\n",
    "print(classification_report(training_y, dummy_prediction))\n"
   ]
  },
  {
   "cell_type": "markdown",
   "metadata": {},
   "source": [
    "## Problem 4: Creating a balanced data set"
   ]
  },
  {
   "cell_type": "markdown",
   "metadata": {},
   "source": [
    "As you saw in Problem&nbsp;1, the distribution of the speeches over the eight different parties (classes) is imbalanced. One technique used to alleviate this is **undersampling**, in which one randomly removes samples from over-represented classes until all classes are represented with the same number of samples.\n",
    "\n",
    "Implement undersampling to create a balanced subset of the training data. Rerun the evaluation from Problem&nbsp;2 on the balanced data and compare the results. Summarise your results in a short text.\n",
    "\n",
    "**Hint:** Your balanced subset should consist of 5,752 speeches."
   ]
  },
  {
   "cell_type": "code",
   "execution_count": 10,
   "metadata": {},
   "outputs": [
    {
     "name": "stdout",
     "output_type": "stream",
     "text": [
      "Total speeches\n",
      "5752\n"
     ]
    }
   ],
   "source": [
    "# TODO: Write code here to implement undersampling\n",
    "def undersample(party):\n",
    "    #Get maximum sample size which is 719 (5752/8 = 719)\n",
    "    sample_size = sum(training_data.party == \"L\")\n",
    "    speeches_party = training_data[training_data.party == party].index\n",
    "    #retreive 719 random samples (speeches) from the party \n",
    "    random_indices = np.random.choice(speeches_party, sample_size, replace=False)\n",
    "    return training_data.loc[random_indices]\n",
    "S = undersample(\"S\")\n",
    "M = undersample(\"M\")\n",
    "MP = undersample(\"MP\")\n",
    "C = undersample(\"C\")\n",
    "SD = undersample(\"SD\")\n",
    "KD = undersample(\"KD\")\n",
    "V = undersample(\"V\")\n",
    "L = undersample(\"L\")\n",
    "\n",
    "print(\"Total speeches\")\n",
    "print(len(S)+ len(M) + len(MP) + len(C) + len(SD) + len(KD) +len(V) + len(L))\n"
   ]
  },
  {
   "cell_type": "code",
   "execution_count": 11,
   "metadata": {},
   "outputs": [
    {
     "name": "stdout",
     "output_type": "stream",
     "text": [
      "              precision    recall  f1-score   support\n",
      "\n",
      "           C       0.30      0.42      0.35       671\n",
      "          KD       0.30      0.40      0.34       821\n",
      "           L       0.26      0.43      0.32       560\n",
      "           M       0.41      0.48      0.44      1644\n",
      "          MP       0.35      0.39      0.37       809\n",
      "           S       0.79      0.32      0.45      2773\n",
      "          SD       0.44      0.42      0.43      1060\n",
      "           V       0.39      0.57      0.46       950\n",
      "\n",
      "    accuracy                           0.41      9288\n",
      "   macro avg       0.40      0.43      0.40      9288\n",
      "weighted avg       0.49      0.41      0.42      9288\n",
      "\n"
     ]
    }
   ],
   "source": [
    "frames = [S, M, MP, C, SD, KD, V, L]\n",
    "#add all undersampled parties to a pandas dataframe\n",
    "undersample_traning = pd.concat(frames)\n",
    "\n",
    "\n",
    "undersample_traning_x = undersample_traning['words']\n",
    "undersample_traning_y = undersample_traning['party']\n",
    "\n",
    "undersample_pipe = Pipeline([('countVec', CountVectorizer()), ('multNB', MultinomialNB())])\n",
    "\n",
    "undersample_pipe.fit(undersample_traning_x, undersample_traning_y)\n",
    "undersample_prediction = undersample_pipe.predict(test_x)\n",
    "print(classification_report(test_y, undersample_prediction))"
   ]
  },
  {
   "cell_type": "markdown",
   "metadata": {},
   "source": [
    "*TODO: Enter the summary of your results here*\n",
    "By undersample, we can see that the accuracy decreased by 5% but the recall is much more even now when it is equally distributed.\n",
    "Something to comment on is that the bigger parties (with many speeches) went from a low precision high recall to a higher precision and lower recall, especially S. A reason behind this could be that when evenly distributed, there are less false positives and more false negatives within these classes. "
   ]
  },
  {
   "cell_type": "markdown",
   "metadata": {},
   "source": [
    "## Problem 5: Confusion matrix"
   ]
  },
  {
   "cell_type": "markdown",
   "metadata": {},
   "source": [
    "A **confusion matrix** is a specific table that is useful when analysing the performance of a classifier. In this table, both the rows and the columns correspond to classes, and each cell $(i, j)$ states how many times a sample with gold-standard class $i$ was predicted as belonging to class $j$.\n",
    "\n",
    "In scitkit-learn, the confusion matrix of a classifier is computed by the function [`confusion_matrix`](https://scikit-learn.org/stable/modules/generated/sklearn.metrics.confusion_matrix.html). If you would rather see a visual representation, you can also use [`plot_confusion_matrix`](https://scikit-learn.org/stable/modules/generated/sklearn.metrics.plot_confusion_matrix.html).\n",
    "\n",
    "Your task is to use the confusion matrix in order to find, for each given party $p$ in the Riksdag, that other party $p'$ which the classifier that you trained in Problem&nbsp;4 most often confuses with $p$ when it predicts the party of a speaker."
   ]
  },
  {
   "cell_type": "code",
   "execution_count": 12,
   "metadata": {},
   "outputs": [
    {
     "name": "stderr",
     "output_type": "stream",
     "text": [
      "/home/glockengold/dev/tdde16/tdde16_venv/lib/python3.10/site-packages/sklearn/utils/deprecation.py:87: FutureWarning: Function plot_confusion_matrix is deprecated; Function `plot_confusion_matrix` is deprecated in 1.0 and will be removed in 1.2. Use one of the class methods: ConfusionMatrixDisplay.from_predictions or ConfusionMatrixDisplay.from_estimator.\n",
      "  warnings.warn(msg, category=FutureWarning)\n"
     ]
    },
    {
     "data": {
      "image/png": "[encoded data removed]",
      "text/plain": [
       "<Figure size 640x480 with 2 Axes>"
      ]
     },
     "metadata": {},
     "output_type": "display_data"
    },
    {
     "name": "stdout",
     "output_type": "stream",
     "text": [
      "[[283  71  50 100  36  22  53  56]\n",
      " [ 65 329  54 181  30  23  63  76]\n",
      " [ 52  43 240  76  24  15  48  62]\n",
      " [174 197 147 782  74  43 122 105]\n",
      " [ 58  61  71  84 313  90  40  92]\n",
      " [182 233 207 422 334 875 177 343]\n",
      " [ 92 105 109 165  38  18 441  92]\n",
      " [ 45  75  60 111  34  19  68 538]]\n"
     ]
    }
   ],
   "source": [
    "# TODO: Write code here to solve Problem 5\n",
    "from sklearn.metrics import confusion_matrix\n",
    "from sklearn.metrics import plot_confusion_matrix\n",
    "\n",
    "plot_confusion_matrix(undersample_pipe, test_x, test_y)\n",
    "plt.show()\n",
    "\n",
    "confusion_matrix = confusion_matrix(test_y,undersample_prediction )\n",
    "print(confusion_matrix)"
   ]
  },
  {
   "cell_type": "markdown",
   "metadata": {},
   "source": [
    "Take a minute to reflect on whether your results make sense."
   ]
  },
  {
   "cell_type": "markdown",
   "metadata": {},
   "source": [
    "## Problem 6: Grid search"
   ]
  },
  {
   "cell_type": "markdown",
   "metadata": {},
   "source": [
    "Until now, you have been using the vectorizer and the Naive Bayes classifier with their default hyperparameters. When working with real-world applications, you would want to find settings for the hyperparameters that maximize the performance for the task at hand.\n",
    "\n",
    "Manually tweaking the hyperparameters of the various components of a vectorizer–classifier pipeline can be cumbersome. However, scikit-learn makes it possible to run an exhaustive search for the best hyperparameters over a grid of possible values. This method is known as **grid search**.\n",
    "\n",
    "The hyperparameters of a pipeline should never be tuned on the final test set. Instead, one should either use a separate validation set, or run cross-validation over different folds. Here we will use cross-validation.\n",
    "\n",
    "Implement a grid search with 5-fold cross-validation to find the optimal parameters in a grid defined by the following choices for the hyperparameters:\n",
    "\n",
    "* In the vectorizer, try a set-of-words (binary) model in addition to the default bag-of-words model (two possible parameter values).\n",
    "* Also in the vectorizer, try extracting bigrams in addition to unigrams (two possible parameter values).\n",
    "* In the Naive Bayes classifier, try using additive smoothing with $\\alpha \\in \\{1, 0{.}1\\}$ (two possible parameter values).\n",
    "\n",
    "Use the class [GridSearchCV](https://scikit-learn.org/stable/modules/generated/sklearn.model_selection.GridSearchCV.html) from the scikit-learn library. Print the results of your best model, along with the parameter values that yielded these results."
   ]
  },
  {
   "cell_type": "code",
   "execution_count": 13,
   "metadata": {},
   "outputs": [],
   "source": [
    "# TODO: Write code here to implement the grid search\n",
    "from sklearn.model_selection import GridSearchCV\n",
    "parameters = {\n",
    "    'countVec__binary':[True, False], \n",
    "    'countVec__ngram_range':[(1,1), (1,2)], \n",
    "    'multNB__alpha': (1, 0.1)\n",
    "    }\n",
    "\n",
    "clf  = GridSearchCV(undersample_pipe, parameters, cv=5)\n",
    "\n"
   ]
  },
  {
   "cell_type": "code",
   "execution_count": 14,
   "metadata": {},
   "outputs": [
    {
     "data": {
      "text/html": [
       "<style>#sk-container-id-1 {color: black;background-color: white;}#sk-container-id-1 pre{padding: 0;}#sk-container-id-1 div.sk-toggleable {background-color: white;}#sk-container-id-1 label.sk-toggleable__label {cursor: pointer;display: block;width: 100%;margin-bottom: 0;padding: 0.3em;box-sizing: border-box;text-align: center;}#sk-container-id-1 label.sk-toggleable__label-arrow:before {content: \"▸\";float: left;margin-right: 0.25em;color: #696969;}#sk-container-id-1 label.sk-toggleable__label-arrow:hover:before {color: black;}#sk-container-id-1 div.sk-estimator:hover label.sk-toggleable__label-arrow:before {color: black;}#sk-container-id-1 div.sk-toggleable__content {max-height: 0;max-width: 0;overflow: hidden;text-align: left;background-color: #f0f8ff;}#sk-container-id-1 div.sk-toggleable__content pre {margin: 0.2em;color: black;border-radius: 0.25em;background-color: #f0f8ff;}#sk-container-id-1 input.sk-toggleable__control:checked~div.sk-toggleable__content {max-height: 200px;max-width: 100%;overflow: auto;}#sk-container-id-1 input.sk-toggleable__control:checked~label.sk-toggleable__label-arrow:before {content: \"▾\";}#sk-container-id-1 div.sk-estimator input.sk-toggleable__control:checked~label.sk-toggleable__label {background-color: #d4ebff;}#sk-container-id-1 div.sk-label input.sk-toggleable__control:checked~label.sk-toggleable__label {background-color: #d4ebff;}#sk-container-id-1 input.sk-hidden--visually {border: 0;clip: rect(1px 1px 1px 1px);clip: rect(1px, 1px, 1px, 1px);height: 1px;margin: -1px;overflow: hidden;padding: 0;position: absolute;width: 1px;}#sk-container-id-1 div.sk-estimator {font-family: monospace;background-color: #f0f8ff;border: 1px dotted black;border-radius: 0.25em;box-sizing: border-box;margin-bottom: 0.5em;}#sk-container-id-1 div.sk-estimator:hover {background-color: #d4ebff;}#sk-container-id-1 div.sk-parallel-item::after {content: \"\";width: 100%;border-bottom: 1px solid gray;flex-grow: 1;}#sk-container-id-1 div.sk-label:hover label.sk-toggleable__label {background-color: #d4ebff;}#sk-container-id-1 div.sk-serial::before {content: \"\";position: absolute;border-left: 1px solid gray;box-sizing: border-box;top: 0;bottom: 0;left: 50%;z-index: 0;}#sk-container-id-1 div.sk-serial {display: flex;flex-direction: column;align-items: center;background-color: white;padding-right: 0.2em;padding-left: 0.2em;position: relative;}#sk-container-id-1 div.sk-item {position: relative;z-index: 1;}#sk-container-id-1 div.sk-parallel {display: flex;align-items: stretch;justify-content: center;background-color: white;position: relative;}#sk-container-id-1 div.sk-item::before, #sk-container-id-1 div.sk-parallel-item::before {content: \"\";position: absolute;border-left: 1px solid gray;box-sizing: border-box;top: 0;bottom: 0;left: 50%;z-index: -1;}#sk-container-id-1 div.sk-parallel-item {display: flex;flex-direction: column;z-index: 1;position: relative;background-color: white;}#sk-container-id-1 div.sk-parallel-item:first-child::after {align-self: flex-end;width: 50%;}#sk-container-id-1 div.sk-parallel-item:last-child::after {align-self: flex-start;width: 50%;}#sk-container-id-1 div.sk-parallel-item:only-child::after {width: 0;}#sk-container-id-1 div.sk-dashed-wrapped {border: 1px dashed gray;margin: 0 0.4em 0.5em 0.4em;box-sizing: border-box;padding-bottom: 0.4em;background-color: white;}#sk-container-id-1 div.sk-label label {font-family: monospace;font-weight: bold;display: inline-block;line-height: 1.2em;}#sk-container-id-1 div.sk-label-container {text-align: center;}#sk-container-id-1 div.sk-container {/* jupyter's `normalize.less` sets `[hidden] { display: none; }` but bootstrap.min.css set `[hidden] { display: none !important; }` so we also need the `!important` here to be able to override the default hidden behavior on the sphinx rendered scikit-learn.org. See: https://github.com/scikit-learn/scikit-learn/issues/21755 */display: inline-block !important;position: relative;}#sk-container-id-1 div.sk-text-repr-fallback {display: none;}</style><div id=\"sk-container-id-1\" class=\"sk-top-container\"><div class=\"sk-text-repr-fallback\"><pre>GridSearchCV(cv=5,\n",
       "             estimator=Pipeline(steps=[(&#x27;countVec&#x27;, CountVectorizer()),\n",
       "                                       (&#x27;multNB&#x27;, MultinomialNB())]),\n",
       "             param_grid={&#x27;countVec__binary&#x27;: [True, False],\n",
       "                         &#x27;countVec__ngram_range&#x27;: [(1, 1), (1, 2)],\n",
       "                         &#x27;multNB__alpha&#x27;: (1, 0.1)})</pre><b>In a Jupyter environment, please rerun this cell to show the HTML representation or trust the notebook. <br />On GitHub, the HTML representation is unable to render, please try loading this page with nbviewer.org.</b></div><div class=\"sk-container\" hidden><div class=\"sk-item sk-dashed-wrapped\"><div class=\"sk-label-container\"><div class=\"sk-label sk-toggleable\"><input class=\"sk-toggleable__control sk-hidden--visually\" id=\"sk-estimator-id-1\" type=\"checkbox\" ><label for=\"sk-estimator-id-1\" class=\"sk-toggleable__label sk-toggleable__label-arrow\">GridSearchCV</label><div class=\"sk-toggleable__content\"><pre>GridSearchCV(cv=5,\n",
       "             estimator=Pipeline(steps=[(&#x27;countVec&#x27;, CountVectorizer()),\n",
       "                                       (&#x27;multNB&#x27;, MultinomialNB())]),\n",
       "             param_grid={&#x27;countVec__binary&#x27;: [True, False],\n",
       "                         &#x27;countVec__ngram_range&#x27;: [(1, 1), (1, 2)],\n",
       "                         &#x27;multNB__alpha&#x27;: (1, 0.1)})</pre></div></div></div><div class=\"sk-parallel\"><div class=\"sk-parallel-item\"><div class=\"sk-item\"><div class=\"sk-label-container\"><div class=\"sk-label sk-toggleable\"><input class=\"sk-toggleable__control sk-hidden--visually\" id=\"sk-estimator-id-2\" type=\"checkbox\" ><label for=\"sk-estimator-id-2\" class=\"sk-toggleable__label sk-toggleable__label-arrow\">estimator: Pipeline</label><div class=\"sk-toggleable__content\"><pre>Pipeline(steps=[(&#x27;countVec&#x27;, CountVectorizer()), (&#x27;multNB&#x27;, MultinomialNB())])</pre></div></div></div><div class=\"sk-serial\"><div class=\"sk-item\"><div class=\"sk-serial\"><div class=\"sk-item\"><div class=\"sk-estimator sk-toggleable\"><input class=\"sk-toggleable__control sk-hidden--visually\" id=\"sk-estimator-id-3\" type=\"checkbox\" ><label for=\"sk-estimator-id-3\" class=\"sk-toggleable__label sk-toggleable__label-arrow\">CountVectorizer</label><div class=\"sk-toggleable__content\"><pre>CountVectorizer()</pre></div></div></div><div class=\"sk-item\"><div class=\"sk-estimator sk-toggleable\"><input class=\"sk-toggleable__control sk-hidden--visually\" id=\"sk-estimator-id-4\" type=\"checkbox\" ><label for=\"sk-estimator-id-4\" class=\"sk-toggleable__label sk-toggleable__label-arrow\">MultinomialNB</label><div class=\"sk-toggleable__content\"><pre>MultinomialNB()</pre></div></div></div></div></div></div></div></div></div></div></div></div>"
      ],
      "text/plain": [
       "GridSearchCV(cv=5,\n",
       "             estimator=Pipeline(steps=[('countVec', CountVectorizer()),\n",
       "                                       ('multNB', MultinomialNB())]),\n",
       "             param_grid={'countVec__binary': [True, False],\n",
       "                         'countVec__ngram_range': [(1, 1), (1, 2)],\n",
       "                         'multNB__alpha': (1, 0.1)})"
      ]
     },
     "execution_count": 14,
     "metadata": {},
     "output_type": "execute_result"
    }
   ],
   "source": [
    "clf.fit(undersample_traning_x, undersample_traning_y)"
   ]
  },
  {
   "cell_type": "code",
   "execution_count": 15,
   "metadata": {},
   "outputs": [
    {
     "name": "stdout",
     "output_type": "stream",
     "text": [
      "0.6279598081063724\n",
      "{'countVec__binary': True, 'countVec__ngram_range': (1, 2), 'multNB__alpha': 0.1}\n"
     ]
    }
   ],
   "source": [
    "print(clf.best_score_)\n",
    "print(clf.best_params_)"
   ]
  },
  {
   "cell_type": "code",
   "execution_count": 16,
   "metadata": {},
   "outputs": [
    {
     "name": "stdout",
     "output_type": "stream",
     "text": [
      "              precision    recall  f1-score   support\n",
      "\n",
      "           C       0.32      0.44      0.37       671\n",
      "          KD       0.33      0.40      0.36       821\n",
      "           L       0.27      0.44      0.33       560\n",
      "           M       0.47      0.47      0.47      1644\n",
      "          MP       0.33      0.43      0.38       809\n",
      "           S       0.76      0.44      0.56      2773\n",
      "          SD       0.49      0.45      0.47      1060\n",
      "           V       0.46      0.58      0.51       950\n",
      "\n",
      "    accuracy                           0.46      9288\n",
      "   macro avg       0.43      0.46      0.43      9288\n",
      "weighted avg       0.51      0.46      0.47      9288\n",
      "\n"
     ]
    }
   ],
   "source": [
    "grid_undersample_pipe = Pipeline(steps=[('countVec', CountVectorizer(binary=False, ngram_range=(1,2))), ('multNB', MultinomialNB(alpha=0.1))])\n",
    "\n",
    "grid_undersample_pipe.fit(undersample_traning_x, undersample_traning_y)\n",
    "grid_undersample_prediction = grid_undersample_pipe.predict(test_x)\n",
    "print(classification_report(test_y, grid_undersample_prediction))"
   ]
  },
  {
   "cell_type": "markdown",
   "metadata": {},
   "source": [
    "## Problem 7: Try to improve your results"
   ]
  },
  {
   "cell_type": "markdown",
   "metadata": {},
   "source": [
    "Scikit-learn makes it easy to test different vectorizer–classifier pipelines – among other things, it includes different types of logistic regression classifiers, support vector machines, and decision trees. Browse the library to see which methods are supported.\n",
    "\n",
    "Build a pipeline that you find interesting, and use grid search to find optimal settings for the hyperparameters. Print the results of your best model."
   ]
  },
  {
   "cell_type": "code",
   "execution_count": 17,
   "metadata": {},
   "outputs": [
    {
     "name": "stdout",
     "output_type": "stream",
     "text": [
      "------ ComplementNB -------\n",
      "              precision    recall  f1-score   support\n",
      "\n",
      "           C       0.33      0.43      0.37       671\n",
      "          KD       0.34      0.41      0.37       821\n",
      "           L       0.29      0.46      0.35       560\n",
      "           M       0.49      0.35      0.41      1644\n",
      "          MP       0.29      0.42      0.34       809\n",
      "           S       0.71      0.38      0.49      2773\n",
      "          SD       0.40      0.51      0.44      1060\n",
      "           V       0.38      0.55      0.45       950\n",
      "\n",
      "    accuracy                           0.42      9288\n",
      "   macro avg       0.40      0.44      0.41      9288\n",
      "weighted avg       0.48      0.42      0.43      9288\n",
      "\n",
      "------ SVC -------\n",
      "              precision    recall  f1-score   support\n",
      "\n",
      "           C       0.29      0.41      0.34       671\n",
      "          KD       0.30      0.27      0.29       821\n",
      "           L       0.23      0.39      0.29       560\n",
      "           M       0.48      0.36      0.41      1644\n",
      "          MP       0.24      0.45      0.31       809\n",
      "           S       0.64      0.43      0.51      2773\n",
      "          SD       0.37      0.44      0.40      1060\n",
      "           V       0.45      0.36      0.40       950\n",
      "\n",
      "    accuracy                           0.39      9288\n",
      "   macro avg       0.37      0.39      0.37      9288\n",
      "weighted avg       0.45      0.39      0.41      9288\n",
      "\n"
     ]
    }
   ],
   "source": [
    "# TODO: Write code here to search for a better model and print the results\n",
    "#Reading on the list of different naive bayes models \n",
    "#from https://scikit-learn.org/stable/modules/naive_bayes.html#multinomial-naive-bayes\n",
    "# We choose complementNB because its trait for handeling imbalanced sets, which we have.\n",
    "#We also wanted to try linearSVC and see what difference it made\n",
    "from sklearn.svm import LinearSVC\n",
    "from sklearn.naive_bayes import ComplementNB\n",
    "\n",
    "improved_pipe_compNB = Pipeline(steps=[('countVec', CountVectorizer()), ('compNB', ComplementNB())])\n",
    "improved_pipe_SVC = Pipeline(steps=[('countVec', CountVectorizer()), ('linSVC', LinearSVC())])\n",
    "\n",
    "improved_pipe_compNB.fit(undersample_traning_x, undersample_traning_y)\n",
    "prediction_compNB = improved_pipe_compNB.predict(test_x)\n",
    "print('------ ComplementNB -------')\n",
    "print(classification_report(test_y, prediction_compNB))\n",
    "\n",
    "improved_pipe_SVC.fit(undersample_traning_x, undersample_traning_y)\n",
    "prediction_SVC = improved_pipe_SVC.predict(test_x)\n",
    "print('------ SVC -------')\n",
    "print(classification_report(test_y, prediction_SVC))\n",
    "\n",
    "\n"
   ]
  },
  {
   "cell_type": "markdown",
   "metadata": {},
   "source": [
    "Deriving the report, they are very much alike based on accuracy, but complementNB was a little bit better. Lets try tuning the hyperparameters of both."
   ]
  },
  {
   "cell_type": "code",
   "execution_count": 18,
   "metadata": {},
   "outputs": [
    {
     "name": "stdout",
     "output_type": "stream",
     "text": [
      "{'compNB__alpha': 0.2, 'countVec__binary': False, 'countVec__ngram_range': (1, 2)}\n"
     ]
    }
   ],
   "source": [
    "parameters = {\n",
    "    'countVec__binary':[True, False], \n",
    "    'countVec__ngram_range':[(1,1), (1,2)], \n",
    "    'compNB__alpha': (1,0.8,0.5,0.2,0.1)\n",
    "    }\n",
    "\n",
    "clf  = GridSearchCV(improved_pipe_compNB, parameters, cv=5)\n",
    "clf.fit(training_x, training_y)\n",
    "print(clf.best_params_)"
   ]
  },
  {
   "cell_type": "code",
   "execution_count": 20,
   "metadata": {},
   "outputs": [
    {
     "name": "stderr",
     "output_type": "stream",
     "text": [
      "/home/glockengold/dev/tdde16/tdde16_venv/lib/python3.10/site-packages/sklearn/svm/_base.py:1225: ConvergenceWarning: Liblinear failed to converge, increase the number of iterations.\n",
      "  warnings.warn(\n",
      "/home/glockengold/dev/tdde16/tdde16_venv/lib/python3.10/site-packages/sklearn/svm/_base.py:1225: ConvergenceWarning: Liblinear failed to converge, increase the number of iterations.\n",
      "  warnings.warn(\n",
      "/home/glockengold/dev/tdde16/tdde16_venv/lib/python3.10/site-packages/sklearn/svm/_base.py:1225: ConvergenceWarning: Liblinear failed to converge, increase the number of iterations.\n",
      "  warnings.warn(\n",
      "/home/glockengold/dev/tdde16/tdde16_venv/lib/python3.10/site-packages/sklearn/svm/_base.py:1225: ConvergenceWarning: Liblinear failed to converge, increase the number of iterations.\n",
      "  warnings.warn(\n",
      "/home/glockengold/dev/tdde16/tdde16_venv/lib/python3.10/site-packages/sklearn/svm/_base.py:1225: ConvergenceWarning: Liblinear failed to converge, increase the number of iterations.\n",
      "  warnings.warn(\n",
      "/home/glockengold/dev/tdde16/tdde16_venv/lib/python3.10/site-packages/sklearn/svm/_base.py:1225: ConvergenceWarning: Liblinear failed to converge, increase the number of iterations.\n",
      "  warnings.warn(\n",
      "/home/glockengold/dev/tdde16/tdde16_venv/lib/python3.10/site-packages/sklearn/svm/_base.py:1225: ConvergenceWarning: Liblinear failed to converge, increase the number of iterations.\n",
      "  warnings.warn(\n",
      "/home/glockengold/dev/tdde16/tdde16_venv/lib/python3.10/site-packages/sklearn/svm/_base.py:1225: ConvergenceWarning: Liblinear failed to converge, increase the number of iterations.\n",
      "  warnings.warn(\n",
      "/home/glockengold/dev/tdde16/tdde16_venv/lib/python3.10/site-packages/sklearn/svm/_base.py:1225: ConvergenceWarning: Liblinear failed to converge, increase the number of iterations.\n",
      "  warnings.warn(\n",
      "/home/glockengold/dev/tdde16/tdde16_venv/lib/python3.10/site-packages/sklearn/svm/_base.py:1225: ConvergenceWarning: Liblinear failed to converge, increase the number of iterations.\n",
      "  warnings.warn(\n",
      "/home/glockengold/dev/tdde16/tdde16_venv/lib/python3.10/site-packages/sklearn/svm/_base.py:1225: ConvergenceWarning: Liblinear failed to converge, increase the number of iterations.\n",
      "  warnings.warn(\n",
      "/home/glockengold/dev/tdde16/tdde16_venv/lib/python3.10/site-packages/sklearn/model_selection/_validation.py:378: FitFailedWarning: \n",
      "40 fits failed out of a total of 80.\n",
      "The score on these train-test partitions for these parameters will be set to nan.\n",
      "If these failures are not expected, you can try to debug them by setting error_score='raise'.\n",
      "\n",
      "Below are more details about the failures:\n",
      "--------------------------------------------------------------------------------\n",
      "20 fits failed with the following error:\n",
      "Traceback (most recent call last):\n",
      "  File \"/home/glockengold/dev/tdde16/tdde16_venv/lib/python3.10/site-packages/sklearn/model_selection/_validation.py\", line 686, in _fit_and_score\n",
      "    estimator.fit(X_train, y_train, **fit_params)\n",
      "  File \"/home/glockengold/dev/tdde16/tdde16_venv/lib/python3.10/site-packages/sklearn/pipeline.py\", line 382, in fit\n",
      "    self._final_estimator.fit(Xt, y, **fit_params_last_step)\n",
      "  File \"/home/glockengold/dev/tdde16/tdde16_venv/lib/python3.10/site-packages/sklearn/svm/_classes.py\", line 257, in fit\n",
      "    self.coef_, self.intercept_, n_iter_ = _fit_liblinear(\n",
      "  File \"/home/glockengold/dev/tdde16/tdde16_venv/lib/python3.10/site-packages/sklearn/svm/_base.py\", line 1204, in _fit_liblinear\n",
      "    solver_type = _get_liblinear_solver_type(multi_class, penalty, loss, dual)\n",
      "  File \"/home/glockengold/dev/tdde16/tdde16_venv/lib/python3.10/site-packages/sklearn/svm/_base.py\", line 1043, in _get_liblinear_solver_type\n",
      "    raise ValueError(\n",
      "ValueError: Unsupported set of arguments: The combination of penalty='l1' and loss='hinge' is not supported, Parameters: penalty='l1', loss='hinge', dual=True\n",
      "\n",
      "--------------------------------------------------------------------------------\n",
      "20 fits failed with the following error:\n",
      "Traceback (most recent call last):\n",
      "  File \"/home/glockengold/dev/tdde16/tdde16_venv/lib/python3.10/site-packages/sklearn/model_selection/_validation.py\", line 686, in _fit_and_score\n",
      "    estimator.fit(X_train, y_train, **fit_params)\n",
      "  File \"/home/glockengold/dev/tdde16/tdde16_venv/lib/python3.10/site-packages/sklearn/pipeline.py\", line 382, in fit\n",
      "    self._final_estimator.fit(Xt, y, **fit_params_last_step)\n",
      "  File \"/home/glockengold/dev/tdde16/tdde16_venv/lib/python3.10/site-packages/sklearn/svm/_classes.py\", line 257, in fit\n",
      "    self.coef_, self.intercept_, n_iter_ = _fit_liblinear(\n",
      "  File \"/home/glockengold/dev/tdde16/tdde16_venv/lib/python3.10/site-packages/sklearn/svm/_base.py\", line 1204, in _fit_liblinear\n",
      "    solver_type = _get_liblinear_solver_type(multi_class, penalty, loss, dual)\n",
      "  File \"/home/glockengold/dev/tdde16/tdde16_venv/lib/python3.10/site-packages/sklearn/svm/_base.py\", line 1043, in _get_liblinear_solver_type\n",
      "    raise ValueError(\n",
      "ValueError: Unsupported set of arguments: The combination of penalty='l1' and loss='squared_hinge' are not supported when dual=True, Parameters: penalty='l1', loss='squared_hinge', dual=True\n",
      "\n",
      "  warnings.warn(some_fits_failed_message, FitFailedWarning)\n",
      "/home/glockengold/dev/tdde16/tdde16_venv/lib/python3.10/site-packages/sklearn/model_selection/_search.py:953: UserWarning: One or more of the test scores are non-finite: [       nan 0.5637169         nan 0.56979302        nan 0.59709723\n",
      "        nan 0.59879865        nan 0.55642518        nan 0.56161052\n",
      "        nan 0.59580024        nan 0.59782565]\n",
      "  warnings.warn(\n"
     ]
    },
    {
     "name": "stdout",
     "output_type": "stream",
     "text": [
      "{'countVec__binary': True, 'countVec__ngram_range': (1, 2), 'linSVC__loss': 'squared_hinge', 'linSVC__penalty': 'l2'}\n"
     ]
    }
   ],
   "source": [
    "parameters = {\n",
    "    'countVec__binary':[True, False], \n",
    "    'countVec__ngram_range':[(1,1), (1,2)], \n",
    "    'linSVC__penalty': ('l1', 'l2'),\n",
    "    'linSVC__loss': ('hinge', 'squared_hinge')\n",
    "    }\n",
    "\n",
    "clf  = GridSearchCV(improved_pipe_SVC, parameters, cv=5)\n",
    "clf.fit(training_x, training_y)\n",
    "print(clf.best_params_)"
   ]
  },
  {
   "cell_type": "code",
   "execution_count": 22,
   "metadata": {},
   "outputs": [
    {
     "name": "stdout",
     "output_type": "stream",
     "text": [
      "------ ComplementNB -------\n",
      "              precision    recall  f1-score   support\n",
      "\n",
      "           C       0.57      0.24      0.34       671\n",
      "          KD       0.61      0.25      0.36       821\n",
      "           L       0.56      0.24      0.34       560\n",
      "           M       0.44      0.64      0.52      1644\n",
      "          MP       0.38      0.33      0.35       809\n",
      "           S       0.55      0.80      0.65      2773\n",
      "          SD       0.57      0.37      0.45      1060\n",
      "           V       0.56      0.37      0.45       950\n",
      "\n",
      "    accuracy                           0.51      9288\n",
      "   macro avg       0.53      0.41      0.43      9288\n",
      "weighted avg       0.53      0.51      0.49      9288\n",
      "\n"
     ]
    }
   ],
   "source": [
    "grid_improved_pipe_compNB = Pipeline(steps=[('countVec', CountVectorizer(binary=False, ngram_range=(1,2))), ('compNB', ComplementNB(alpha=0.2))])\n",
    "grid_improved_pipe_compNB.fit(training_x, training_y)\n",
    "grid_prediction_compNB = grid_improved_pipe_compNB.predict(test_x)\n",
    "print('------ ComplementNB -------')\n",
    "print(classification_report(test_y, grid_prediction_compNB))"
   ]
  },
  {
   "cell_type": "code",
   "execution_count": 23,
   "metadata": {},
   "outputs": [
    {
     "name": "stdout",
     "output_type": "stream",
     "text": [
      "------ SVC -------\n",
      "              precision    recall  f1-score   support\n",
      "\n",
      "           C       0.48      0.34      0.40       671\n",
      "          KD       0.56      0.21      0.31       821\n",
      "           L       0.39      0.26      0.32       560\n",
      "           M       0.49      0.52      0.50      1644\n",
      "          MP       0.30      0.37      0.33       809\n",
      "           S       0.54      0.78      0.64      2773\n",
      "          SD       0.51      0.40      0.45      1060\n",
      "           V       0.64      0.37      0.47       950\n",
      "\n",
      "    accuracy                           0.50      9288\n",
      "   macro avg       0.49      0.41      0.43      9288\n",
      "weighted avg       0.51      0.50      0.48      9288\n",
      "\n"
     ]
    }
   ],
   "source": [
    "grid_improved_pipe_SVC = Pipeline(steps=[('countVec', CountVectorizer(binary=True, ngram_range=(1,2))), ('linSVC', LinearSVC(penalty='l2', loss='squared_hinge'))])\n",
    "grid_improved_pipe_SVC.fit(training_x, training_y)\n",
    "grid_prediction_SVC = grid_improved_pipe_SVC.predict(test_x)\n",
    "print('------ SVC -------')\n",
    "print(classification_report(test_y, grid_prediction_SVC))"
   ]
  },
  {
   "cell_type": "markdown",
   "metadata": {},
   "source": [
    "Using the tuned hyperparameters, we can see an improvement of around 10 percentage points for both models, though the Complement Naive Bayes is still slightly ahead of the Support Vector Machine by 1 percentage point. At this point we can conclude that both methods give decent models, though the Complement Naive Bayes gives a heigher weighted average accuracy, resulting in the heigher average F1-score."
   ]
  },
  {
   "cell_type": "markdown",
   "metadata": {},
   "source": [
    "## Reflection questions"
   ]
  },
  {
   "cell_type": "markdown",
   "metadata": {},
   "source": [
    "The following reflection questions will help you prepare for the diagnostic test. Answer each of them in the form of a short text and put your answers in the cell below. You will get feedback on your answers from your lab assistant."
   ]
  },
  {
   "cell_type": "markdown",
   "metadata": {},
   "source": [
    "**RQ 2.1:** Summarise the results of your experiments for Problem&nbsp;2. Are your results ‘good’ or ‘bad’? How do you determine that?\n",
    "\n",
    "**RQ 2.2:** Summarise the results of your experiments for Problem&nbsp;4. Would you think that your results are typical even for other classification tasks? How would *oversampling* have looked like for this task? When would you use undersampling, when oversampling?\n",
    "\n",
    "**RQ 2.3:** Which model performed best in your experiments for Problem&nbsp;6? Why is it important to do a hyperparameter search before drawing conclusions about the performance of a model? Why is it often not done, anyway? Why should you never tune hyperparameters on the test set?"
   ]
  },
  {
   "cell_type": "markdown",
   "metadata": {},
   "source": [
    "\n",
    "**2.1** We are basing how good multinominal naive bayes is compared to the dummy class. The multiNB has an accuarcy around 44% which is better than the dummy test on 19% and 35% (though the most frequent dummy classifer has divison by zero) which makes it \"good\" in that it is better than random sampling or which class appears most often. However you can not only look at the accuarcy, as the undersampled dataset has lower accuarcy but better recall. We would say that the result is decent, in that it is better than random choice, but could certainly use some improvement. \n",
    "\n",
    "**2.2** I would argue that the result is typical for other classification tasks. Oversampling in other cases could be getting data from a form evaluating a process at school. If we were to say that there were 90% men och 10% women who took the survey it analysed, it could be more scewed to what the men found interesting because of the fact that there would be more documents of one category compared to another. \n",
    "\n",
    "One would use oversampling when information is sparse to increase the data.\n",
    "One would use undersampling when there are a lot of information in two or more data set and you want to equalize all the datasets.\n",
    "\n",
    "\n",
    "**2.3** The Complement Naive Bayes model performed best in P6. It is important to tune the hyperparameters correctly to get better value and performance of a dataset. Using only the base parameters of the model will not always output the best performance. We would argue that the performance increase is often so minimal that data scientists do not bother with the increase. In our case, tuning the hyperparameters resulted in an increase of 10 percentage points, which is not insubstantial, but such an increase is not necessarily the norm.\n",
    "It is important to not tune the model on your test data, because it would skew all results, and cause the model to overfit on a specific dataset. Using untainted test data ensures that the model can generalize properly to new information.\n"
   ]
  },
  {
   "cell_type": "markdown",
   "metadata": {},
   "source": [
    "**Congratulations on finishing L2! 👍**"
   ]
  }
 ],
 "metadata": {
  "kernelspec": {
   "display_name": "Python 3.10.6 ('tdde16_venv')",
   "language": "python",
   "name": "python3"
  },
  "language_info": {
   "codemirror_mode": {
    "name": "ipython",
    "version": 3
   },
   "file_extension": ".py",
   "mimetype": "text/x-python",
   "name": "python",
   "nbconvert_exporter": "python",
   "pygments_lexer": "ipython3",
   "version": "3.10.6"
  },
  "vscode": {
   "interpreter": {
    "hash": "9e377d4b1117024990b63de2533c035e1c34ec5f5422d6f429ccfbbd0115c7fa"
   }
  }
 },
 "nbformat": 4,
 "nbformat_minor": 2
}
